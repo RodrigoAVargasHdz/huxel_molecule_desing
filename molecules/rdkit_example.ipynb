{
  "nbformat": 4,
  "nbformat_minor": 0,
  "metadata": {
    "colab": {
      "name": "rdkit_example.ipynb",
      "provenance": [],
      "collapsed_sections": [],
      "toc_visible": true
    },
    "kernelspec": {
      "name": "python3",
      "display_name": "Python 3"
    },
    "language_info": {
      "name": "python"
    }
  },
  "cells": [
    {
      "cell_type": "code",
      "execution_count": 1,
      "metadata": {
        "colab": {
          "base_uri": "https://localhost:8080/"
        },
        "id": "IdEfISm9kG5l",
        "outputId": "6ec35196-e4a1-43b3-d4da-d7fb62a4d68e"
      },
      "outputs": [
        {
          "output_type": "stream",
          "name": "stdout",
          "text": [
            "⏬ Downloading https://github.com/jaimergp/miniforge/releases/latest/download/Mambaforge-colab-Linux-x86_64.sh...\n",
            "📦 Installing...\n",
            "📌 Adjusting configuration...\n",
            "🩹 Patching environment...\n",
            "⏲ Done in 0:00:34\n",
            "🔁 Restarting kernel...\n"
          ]
        }
      ],
      "source": [
        "!pip install -q condacolab\n",
        "import condacolab\n",
        "condacolab.install()"
      ]
    },
    {
      "cell_type": "code",
      "source": [
        "!mamba install -c conda-forge rdkit"
      ],
      "metadata": {
        "id": "9pdftv7OkKlW"
      },
      "execution_count": null,
      "outputs": []
    },
    {
      "cell_type": "code",
      "source": [
        "from rdkit import Chem\n",
        "from rdkit.Chem.Draw import IPythonConsole\n",
        "from rdkit.Chem import Draw\n",
        "\n",
        "import numpy as np\n",
        "\n",
        "IPythonConsole.ipython_useSVG=True\n",
        "IPythonConsole.drawOptions.addAtomIndices = True\n",
        "IPythonConsole.molSize = 400,400"
      ],
      "metadata": {
        "id": "CzMXGfrIkY2U"
      },
      "execution_count": 21,
      "outputs": []
    },
    {
      "cell_type": "markdown",
      "source": [
        "# Smiles from JCP 2008\n",
        "\n",
        "*   C=C/C=C/C=C/C=C/C=C/C=C \n",
        "*   C1=CC=CC=C1\n",
        "*   C12=CC=CC3=C1C(C(C=C3)=CC=C4)=C4C=C2\n",
        "*   C1(C(C=CC=C2)=C2C=C3)=C3C=CC=C1\n",
        "*   C12=CC=CC=C1C=C3C(C=CC=C3)=C2\n",
        "*   C12=C3C4=C5C6=C1C7=CC=C6C=CC5=CC=C4C=CC3=CC=C2C=C7\n",
        "*   C1(/C=C/C2=CC=CC=C2)=CC=CC=C1\n",
        "*   C12=CC=CC=C1C=C3C(C=C(C=CC=C4)C4=C3)=C2\n"
      ],
      "metadata": {
        "id": "a0-QQaqOkcHh"
      }
    },
    {
      "cell_type": "code",
      "source": [
        "all_molecules = [\"C=C/C=C/C=C/C=C/C=C/C=C\",\n",
        "                'C1=CC=CC=C1',\n",
        "                'C12=CC=CC3=C1C(C(C=C3)=CC=C4)=C4C=C2',\n",
        "                'C1(C(C=CC=C2)=C2C=C3)=C3C=CC=C1',\n",
        "                'C12=CC=CC=C1C=C3C(C=CC=C3)=C2',\n",
        "                'C12=C3C4=C5C6=C1C7=CC=C6C=CC5=CC=C4C=CC3=CC=C2C=C7',\n",
        "                'C1(/C=C/C2=CC=CC=C2)=CC=CC=C1',\n",
        "                 'C12=CC=CC=C1C=C3C(C=C(C=CC=C4)C4=C3)=C2']"
      ],
      "metadata": {
        "id": "LQKEPMa1lZr-"
      },
      "execution_count": 22,
      "outputs": []
    },
    {
      "cell_type": "code",
      "source": [
        "def get_AdjacencyMatrix(s):\n",
        "  mol = Chem.MolFromSmiles(s)\n",
        "  # mol\n",
        "  am = Chem.GetAdjacencyMatrix(mol)\n",
        "  return np.asarray(am)\n"
      ],
      "metadata": {
        "id": "DM54kMGSlwci"
      },
      "execution_count": 28,
      "outputs": []
    },
    {
      "cell_type": "code",
      "source": [
        "for i,s in enumerate(all_molecules):\n",
        "  am = get_AdjacencyMatrix(s)\n",
        "  print(s)\n",
        "  print(am)\n",
        "  file_ = f\"smile{i+1}_AdjacencyMatrix.npy\"\n",
        "  r = {f\"smile{i+1}\":s,\n",
        "       \"AdjacencyMatrix\":am}\n",
        "  np.save(file_,r,allow_pickle=True)\n"
      ],
      "metadata": {
        "colab": {
          "base_uri": "https://localhost:8080/"
        },
        "id": "t9GjaYfVmSqo",
        "outputId": "7a842298-527e-4b67-da0f-9a9d001d68cf"
      },
      "execution_count": 30,
      "outputs": [
        {
          "output_type": "stream",
          "name": "stdout",
          "text": [
            "C=C/C=C/C=C/C=C/C=C/C=C\n",
            "[[0 1 0 0 0 0 0 0 0 0 0 0]\n",
            " [1 0 1 0 0 0 0 0 0 0 0 0]\n",
            " [0 1 0 1 0 0 0 0 0 0 0 0]\n",
            " [0 0 1 0 1 0 0 0 0 0 0 0]\n",
            " [0 0 0 1 0 1 0 0 0 0 0 0]\n",
            " [0 0 0 0 1 0 1 0 0 0 0 0]\n",
            " [0 0 0 0 0 1 0 1 0 0 0 0]\n",
            " [0 0 0 0 0 0 1 0 1 0 0 0]\n",
            " [0 0 0 0 0 0 0 1 0 1 0 0]\n",
            " [0 0 0 0 0 0 0 0 1 0 1 0]\n",
            " [0 0 0 0 0 0 0 0 0 1 0 1]\n",
            " [0 0 0 0 0 0 0 0 0 0 1 0]]\n",
            "C1=CC=CC=C1\n",
            "[[0 1 0 0 0 1]\n",
            " [1 0 1 0 0 0]\n",
            " [0 1 0 1 0 0]\n",
            " [0 0 1 0 1 0]\n",
            " [0 0 0 1 0 1]\n",
            " [1 0 0 0 1 0]]\n",
            "C12=CC=CC3=C1C(C(C=C3)=CC=C4)=C4C=C2\n",
            "[[0 1 0 0 0 1 0 0 0 0 0 0 0 0 0 1]\n",
            " [1 0 1 0 0 0 0 0 0 0 0 0 0 0 0 0]\n",
            " [0 1 0 1 0 0 0 0 0 0 0 0 0 0 0 0]\n",
            " [0 0 1 0 1 0 0 0 0 0 0 0 0 0 0 0]\n",
            " [0 0 0 1 0 1 0 0 0 1 0 0 0 0 0 0]\n",
            " [1 0 0 0 1 0 1 0 0 0 0 0 0 0 0 0]\n",
            " [0 0 0 0 0 1 0 1 0 0 0 0 0 1 0 0]\n",
            " [0 0 0 0 0 0 1 0 1 0 1 0 0 0 0 0]\n",
            " [0 0 0 0 0 0 0 1 0 1 0 0 0 0 0 0]\n",
            " [0 0 0 0 1 0 0 0 1 0 0 0 0 0 0 0]\n",
            " [0 0 0 0 0 0 0 1 0 0 0 1 0 0 0 0]\n",
            " [0 0 0 0 0 0 0 0 0 0 1 0 1 0 0 0]\n",
            " [0 0 0 0 0 0 0 0 0 0 0 1 0 1 0 0]\n",
            " [0 0 0 0 0 0 1 0 0 0 0 0 1 0 1 0]\n",
            " [0 0 0 0 0 0 0 0 0 0 0 0 0 1 0 1]\n",
            " [1 0 0 0 0 0 0 0 0 0 0 0 0 0 1 0]]\n",
            "C1(C(C=CC=C2)=C2C=C3)=C3C=CC=C1\n",
            "[[0 1 0 0 0 0 0 0 0 1 0 0 0 1]\n",
            " [1 0 1 0 0 0 1 0 0 0 0 0 0 0]\n",
            " [0 1 0 1 0 0 0 0 0 0 0 0 0 0]\n",
            " [0 0 1 0 1 0 0 0 0 0 0 0 0 0]\n",
            " [0 0 0 1 0 1 0 0 0 0 0 0 0 0]\n",
            " [0 0 0 0 1 0 1 0 0 0 0 0 0 0]\n",
            " [0 1 0 0 0 1 0 1 0 0 0 0 0 0]\n",
            " [0 0 0 0 0 0 1 0 1 0 0 0 0 0]\n",
            " [0 0 0 0 0 0 0 1 0 1 0 0 0 0]\n",
            " [1 0 0 0 0 0 0 0 1 0 1 0 0 0]\n",
            " [0 0 0 0 0 0 0 0 0 1 0 1 0 0]\n",
            " [0 0 0 0 0 0 0 0 0 0 1 0 1 0]\n",
            " [0 0 0 0 0 0 0 0 0 0 0 1 0 1]\n",
            " [1 0 0 0 0 0 0 0 0 0 0 0 1 0]]\n",
            "C12=CC=CC=C1C=C3C(C=CC=C3)=C2\n",
            "[[0 1 0 0 0 1 0 0 0 0 0 0 0 1]\n",
            " [1 0 1 0 0 0 0 0 0 0 0 0 0 0]\n",
            " [0 1 0 1 0 0 0 0 0 0 0 0 0 0]\n",
            " [0 0 1 0 1 0 0 0 0 0 0 0 0 0]\n",
            " [0 0 0 1 0 1 0 0 0 0 0 0 0 0]\n",
            " [1 0 0 0 1 0 1 0 0 0 0 0 0 0]\n",
            " [0 0 0 0 0 1 0 1 0 0 0 0 0 0]\n",
            " [0 0 0 0 0 0 1 0 1 0 0 0 1 0]\n",
            " [0 0 0 0 0 0 0 1 0 1 0 0 0 1]\n",
            " [0 0 0 0 0 0 0 0 1 0 1 0 0 0]\n",
            " [0 0 0 0 0 0 0 0 0 1 0 1 0 0]\n",
            " [0 0 0 0 0 0 0 0 0 0 1 0 1 0]\n",
            " [0 0 0 0 0 0 0 1 0 0 0 1 0 0]\n",
            " [1 0 0 0 0 0 0 0 1 0 0 0 0 0]]\n",
            "C12=C3C4=C5C6=C1C7=CC=C6C=CC5=CC=C4C=CC3=CC=C2C=C7\n",
            "[[0 1 0 0 0 1 0 0 0 0 0 0 0 0 0 0 0 0 0 0 0 1 0 0]\n",
            " [1 0 1 0 0 0 0 0 0 0 0 0 0 0 0 0 0 0 1 0 0 0 0 0]\n",
            " [0 1 0 1 0 0 0 0 0 0 0 0 0 0 0 1 0 0 0 0 0 0 0 0]\n",
            " [0 0 1 0 1 0 0 0 0 0 0 0 1 0 0 0 0 0 0 0 0 0 0 0]\n",
            " [0 0 0 1 0 1 0 0 0 1 0 0 0 0 0 0 0 0 0 0 0 0 0 0]\n",
            " [1 0 0 0 1 0 1 0 0 0 0 0 0 0 0 0 0 0 0 0 0 0 0 0]\n",
            " [0 0 0 0 0 1 0 1 0 0 0 0 0 0 0 0 0 0 0 0 0 0 0 1]\n",
            " [0 0 0 0 0 0 1 0 1 0 0 0 0 0 0 0 0 0 0 0 0 0 0 0]\n",
            " [0 0 0 0 0 0 0 1 0 1 0 0 0 0 0 0 0 0 0 0 0 0 0 0]\n",
            " [0 0 0 0 1 0 0 0 1 0 1 0 0 0 0 0 0 0 0 0 0 0 0 0]\n",
            " [0 0 0 0 0 0 0 0 0 1 0 1 0 0 0 0 0 0 0 0 0 0 0 0]\n",
            " [0 0 0 0 0 0 0 0 0 0 1 0 1 0 0 0 0 0 0 0 0 0 0 0]\n",
            " [0 0 0 1 0 0 0 0 0 0 0 1 0 1 0 0 0 0 0 0 0 0 0 0]\n",
            " [0 0 0 0 0 0 0 0 0 0 0 0 1 0 1 0 0 0 0 0 0 0 0 0]\n",
            " [0 0 0 0 0 0 0 0 0 0 0 0 0 1 0 1 0 0 0 0 0 0 0 0]\n",
            " [0 0 1 0 0 0 0 0 0 0 0 0 0 0 1 0 1 0 0 0 0 0 0 0]\n",
            " [0 0 0 0 0 0 0 0 0 0 0 0 0 0 0 1 0 1 0 0 0 0 0 0]\n",
            " [0 0 0 0 0 0 0 0 0 0 0 0 0 0 0 0 1 0 1 0 0 0 0 0]\n",
            " [0 1 0 0 0 0 0 0 0 0 0 0 0 0 0 0 0 1 0 1 0 0 0 0]\n",
            " [0 0 0 0 0 0 0 0 0 0 0 0 0 0 0 0 0 0 1 0 1 0 0 0]\n",
            " [0 0 0 0 0 0 0 0 0 0 0 0 0 0 0 0 0 0 0 1 0 1 0 0]\n",
            " [1 0 0 0 0 0 0 0 0 0 0 0 0 0 0 0 0 0 0 0 1 0 1 0]\n",
            " [0 0 0 0 0 0 0 0 0 0 0 0 0 0 0 0 0 0 0 0 0 1 0 1]\n",
            " [0 0 0 0 0 0 1 0 0 0 0 0 0 0 0 0 0 0 0 0 0 0 1 0]]\n",
            "C1(/C=C/C2=CC=CC=C2)=CC=CC=C1\n",
            "[[0 1 0 0 0 0 0 0 0 1 0 0 0 1]\n",
            " [1 0 1 0 0 0 0 0 0 0 0 0 0 0]\n",
            " [0 1 0 1 0 0 0 0 0 0 0 0 0 0]\n",
            " [0 0 1 0 1 0 0 0 1 0 0 0 0 0]\n",
            " [0 0 0 1 0 1 0 0 0 0 0 0 0 0]\n",
            " [0 0 0 0 1 0 1 0 0 0 0 0 0 0]\n",
            " [0 0 0 0 0 1 0 1 0 0 0 0 0 0]\n",
            " [0 0 0 0 0 0 1 0 1 0 0 0 0 0]\n",
            " [0 0 0 1 0 0 0 1 0 0 0 0 0 0]\n",
            " [1 0 0 0 0 0 0 0 0 0 1 0 0 0]\n",
            " [0 0 0 0 0 0 0 0 0 1 0 1 0 0]\n",
            " [0 0 0 0 0 0 0 0 0 0 1 0 1 0]\n",
            " [0 0 0 0 0 0 0 0 0 0 0 1 0 1]\n",
            " [1 0 0 0 0 0 0 0 0 0 0 0 1 0]]\n",
            "C12=CC=CC=C1C=C3C(C=C(C=CC=C4)C4=C3)=C2\n",
            "[[0 1 0 0 0 1 0 0 0 0 0 0 0 0 0 0 0 1]\n",
            " [1 0 1 0 0 0 0 0 0 0 0 0 0 0 0 0 0 0]\n",
            " [0 1 0 1 0 0 0 0 0 0 0 0 0 0 0 0 0 0]\n",
            " [0 0 1 0 1 0 0 0 0 0 0 0 0 0 0 0 0 0]\n",
            " [0 0 0 1 0 1 0 0 0 0 0 0 0 0 0 0 0 0]\n",
            " [1 0 0 0 1 0 1 0 0 0 0 0 0 0 0 0 0 0]\n",
            " [0 0 0 0 0 1 0 1 0 0 0 0 0 0 0 0 0 0]\n",
            " [0 0 0 0 0 0 1 0 1 0 0 0 0 0 0 0 1 0]\n",
            " [0 0 0 0 0 0 0 1 0 1 0 0 0 0 0 0 0 1]\n",
            " [0 0 0 0 0 0 0 0 1 0 1 0 0 0 0 0 0 0]\n",
            " [0 0 0 0 0 0 0 0 0 1 0 1 0 0 0 1 0 0]\n",
            " [0 0 0 0 0 0 0 0 0 0 1 0 1 0 0 0 0 0]\n",
            " [0 0 0 0 0 0 0 0 0 0 0 1 0 1 0 0 0 0]\n",
            " [0 0 0 0 0 0 0 0 0 0 0 0 1 0 1 0 0 0]\n",
            " [0 0 0 0 0 0 0 0 0 0 0 0 0 1 0 1 0 0]\n",
            " [0 0 0 0 0 0 0 0 0 0 1 0 0 0 1 0 1 0]\n",
            " [0 0 0 0 0 0 0 1 0 0 0 0 0 0 0 1 0 0]\n",
            " [1 0 0 0 0 0 0 0 1 0 0 0 0 0 0 0 0 0]]\n"
          ]
        }
      ]
    },
    {
      "cell_type": "code",
      "source": [
        "!pwd"
      ],
      "metadata": {
        "colab": {
          "base_uri": "https://localhost:8080/"
        },
        "id": "KDoJ_U3dnn36",
        "outputId": "5f008246-56e9-4d9c-f82d-51f9dc3af3ce"
      },
      "execution_count": 32,
      "outputs": [
        {
          "output_type": "stream",
          "name": "stdout",
          "text": [
            "/content\n"
          ]
        }
      ]
    }
  ]
}